{
 "cells": [
  {
   "cell_type": "markdown",
   "metadata": {
    "id": "H9wADwK78DCz"
   },
   "source": [
    "# Proyek Analisis Data: Air Quality Dataset\n",
    "- **Nama:** Arkan Abdila Barts\n",
    "- **Email:** arkanbarts@gmail.com\n",
    "- **ID Dicoding:** Arkan Abdila Barts"
   ]
  },
  {
   "cell_type": "markdown",
   "metadata": {
    "id": "eE0raob58DC0"
   },
   "source": [
    "## Menentukan Pertanyaan Bisnis"
   ]
  },
  {
   "cell_type": "markdown",
   "metadata": {
    "id": "GmQeQ5YF8DC0"
   },
   "source": [
    "- Bagaimana grafik garis tren konsentrasi PM2.5 dan PM10 dalam jangka waktu tertentu di daerah Guanyuan?\n",
    "- Bagaimana grafik tren rata-rata suhu di dearah Guanyuan dalam kurun waktu tertentu?\n",
    "- Dalam kurun waktu tertentu, berapa curah hujan tertinggi dan terendah"
   ]
  },
  {
   "cell_type": "markdown",
   "metadata": {
    "id": "H-z4QGlO8DC1"
   },
   "source": [
    "## Import Semua Packages/Library yang Digunakan"
   ]
  },
  {
   "cell_type": "code",
   "execution_count": 1,
   "metadata": {
    "id": "FVYwaObI8DC1"
   },
   "outputs": [],
   "source": [
    "import pandas as pd\n",
    "import matplotlib.pyplot as plt"
   ]
  },
  {
   "cell_type": "markdown",
   "metadata": {
    "id": "h_Sh51Xy8DC1"
   },
   "source": [
    "## Data Wrangling"
   ]
  },
  {
   "cell_type": "markdown",
   "metadata": {
    "id": "sXU2GBYu8DC1"
   },
   "source": [
    "### Gathering Data"
   ]
  },
  {
   "cell_type": "code",
   "execution_count": 2,
   "metadata": {
    "id": "zjCBk1BI8DC1"
   },
   "outputs": [
    {
     "data": {
      "text/html": [
       "<div>\n",
       "<style scoped>\n",
       "    .dataframe tbody tr th:only-of-type {\n",
       "        vertical-align: middle;\n",
       "    }\n",
       "\n",
       "    .dataframe tbody tr th {\n",
       "        vertical-align: top;\n",
       "    }\n",
       "\n",
       "    .dataframe thead th {\n",
       "        text-align: right;\n",
       "    }\n",
       "</style>\n",
       "<table border=\"1\" class=\"dataframe\">\n",
       "  <thead>\n",
       "    <tr style=\"text-align: right;\">\n",
       "      <th></th>\n",
       "      <th>No</th>\n",
       "      <th>year</th>\n",
       "      <th>month</th>\n",
       "      <th>day</th>\n",
       "      <th>hour</th>\n",
       "      <th>PM2.5</th>\n",
       "      <th>PM10</th>\n",
       "      <th>SO2</th>\n",
       "      <th>NO2</th>\n",
       "      <th>CO</th>\n",
       "      <th>O3</th>\n",
       "      <th>TEMP</th>\n",
       "      <th>PRES</th>\n",
       "      <th>DEWP</th>\n",
       "      <th>RAIN</th>\n",
       "      <th>wd</th>\n",
       "      <th>WSPM</th>\n",
       "      <th>station</th>\n",
       "    </tr>\n",
       "  </thead>\n",
       "  <tbody>\n",
       "    <tr>\n",
       "      <th>0</th>\n",
       "      <td>1</td>\n",
       "      <td>2013</td>\n",
       "      <td>3</td>\n",
       "      <td>1</td>\n",
       "      <td>0</td>\n",
       "      <td>4.0</td>\n",
       "      <td>4.0</td>\n",
       "      <td>14.0</td>\n",
       "      <td>20.0</td>\n",
       "      <td>300.0</td>\n",
       "      <td>69.0</td>\n",
       "      <td>-0.7</td>\n",
       "      <td>1023.0</td>\n",
       "      <td>-18.8</td>\n",
       "      <td>0.0</td>\n",
       "      <td>NNW</td>\n",
       "      <td>4.4</td>\n",
       "      <td>Guanyuan</td>\n",
       "    </tr>\n",
       "    <tr>\n",
       "      <th>1</th>\n",
       "      <td>2</td>\n",
       "      <td>2013</td>\n",
       "      <td>3</td>\n",
       "      <td>1</td>\n",
       "      <td>1</td>\n",
       "      <td>4.0</td>\n",
       "      <td>4.0</td>\n",
       "      <td>13.0</td>\n",
       "      <td>17.0</td>\n",
       "      <td>300.0</td>\n",
       "      <td>72.0</td>\n",
       "      <td>-1.1</td>\n",
       "      <td>1023.2</td>\n",
       "      <td>-18.2</td>\n",
       "      <td>0.0</td>\n",
       "      <td>N</td>\n",
       "      <td>4.7</td>\n",
       "      <td>Guanyuan</td>\n",
       "    </tr>\n",
       "    <tr>\n",
       "      <th>2</th>\n",
       "      <td>3</td>\n",
       "      <td>2013</td>\n",
       "      <td>3</td>\n",
       "      <td>1</td>\n",
       "      <td>2</td>\n",
       "      <td>3.0</td>\n",
       "      <td>3.0</td>\n",
       "      <td>10.0</td>\n",
       "      <td>19.0</td>\n",
       "      <td>300.0</td>\n",
       "      <td>69.0</td>\n",
       "      <td>-1.1</td>\n",
       "      <td>1023.5</td>\n",
       "      <td>-18.2</td>\n",
       "      <td>0.0</td>\n",
       "      <td>NNW</td>\n",
       "      <td>5.6</td>\n",
       "      <td>Guanyuan</td>\n",
       "    </tr>\n",
       "    <tr>\n",
       "      <th>3</th>\n",
       "      <td>4</td>\n",
       "      <td>2013</td>\n",
       "      <td>3</td>\n",
       "      <td>1</td>\n",
       "      <td>3</td>\n",
       "      <td>3.0</td>\n",
       "      <td>6.0</td>\n",
       "      <td>7.0</td>\n",
       "      <td>24.0</td>\n",
       "      <td>400.0</td>\n",
       "      <td>62.0</td>\n",
       "      <td>-1.4</td>\n",
       "      <td>1024.5</td>\n",
       "      <td>-19.4</td>\n",
       "      <td>0.0</td>\n",
       "      <td>NW</td>\n",
       "      <td>3.1</td>\n",
       "      <td>Guanyuan</td>\n",
       "    </tr>\n",
       "    <tr>\n",
       "      <th>4</th>\n",
       "      <td>5</td>\n",
       "      <td>2013</td>\n",
       "      <td>3</td>\n",
       "      <td>1</td>\n",
       "      <td>4</td>\n",
       "      <td>3.0</td>\n",
       "      <td>6.0</td>\n",
       "      <td>5.0</td>\n",
       "      <td>14.0</td>\n",
       "      <td>400.0</td>\n",
       "      <td>71.0</td>\n",
       "      <td>-2.0</td>\n",
       "      <td>1025.2</td>\n",
       "      <td>-19.5</td>\n",
       "      <td>0.0</td>\n",
       "      <td>N</td>\n",
       "      <td>2.0</td>\n",
       "      <td>Guanyuan</td>\n",
       "    </tr>\n",
       "  </tbody>\n",
       "</table>\n",
       "</div>"
      ],
      "text/plain": [
       "   No  year  month  day  hour  PM2.5  PM10   SO2   NO2     CO    O3  TEMP  \\\n",
       "0   1  2013      3    1     0    4.0   4.0  14.0  20.0  300.0  69.0  -0.7   \n",
       "1   2  2013      3    1     1    4.0   4.0  13.0  17.0  300.0  72.0  -1.1   \n",
       "2   3  2013      3    1     2    3.0   3.0  10.0  19.0  300.0  69.0  -1.1   \n",
       "3   4  2013      3    1     3    3.0   6.0   7.0  24.0  400.0  62.0  -1.4   \n",
       "4   5  2013      3    1     4    3.0   6.0   5.0  14.0  400.0  71.0  -2.0   \n",
       "\n",
       "     PRES  DEWP  RAIN   wd  WSPM   station  \n",
       "0  1023.0 -18.8   0.0  NNW   4.4  Guanyuan  \n",
       "1  1023.2 -18.2   0.0    N   4.7  Guanyuan  \n",
       "2  1023.5 -18.2   0.0  NNW   5.6  Guanyuan  \n",
       "3  1024.5 -19.4   0.0   NW   3.1  Guanyuan  \n",
       "4  1025.2 -19.5   0.0    N   2.0  Guanyuan  "
      ]
     },
     "execution_count": 2,
     "metadata": {},
     "output_type": "execute_result"
    }
   ],
   "source": [
    "guanyuan_df = pd.read_csv(\"file_data/PRSA_Data_Guanyuan_20130301-20170228.csv\")\n",
    "guanyuan_df.head()"
   ]
  },
  {
   "cell_type": "code",
   "execution_count": 3,
   "metadata": {
    "id": "zjCBk1BI8DC1"
   },
   "outputs": [
    {
     "data": {
      "text/html": [
       "<div>\n",
       "<style scoped>\n",
       "    .dataframe tbody tr th:only-of-type {\n",
       "        vertical-align: middle;\n",
       "    }\n",
       "\n",
       "    .dataframe tbody tr th {\n",
       "        vertical-align: top;\n",
       "    }\n",
       "\n",
       "    .dataframe thead th {\n",
       "        text-align: right;\n",
       "    }\n",
       "</style>\n",
       "<table border=\"1\" class=\"dataframe\">\n",
       "  <thead>\n",
       "    <tr style=\"text-align: right;\">\n",
       "      <th></th>\n",
       "      <th>No</th>\n",
       "      <th>year</th>\n",
       "      <th>month</th>\n",
       "      <th>day</th>\n",
       "      <th>hour</th>\n",
       "      <th>PM2.5</th>\n",
       "      <th>PM10</th>\n",
       "      <th>SO2</th>\n",
       "      <th>NO2</th>\n",
       "      <th>CO</th>\n",
       "      <th>O3</th>\n",
       "      <th>TEMP</th>\n",
       "      <th>PRES</th>\n",
       "      <th>DEWP</th>\n",
       "      <th>RAIN</th>\n",
       "      <th>wd</th>\n",
       "      <th>WSPM</th>\n",
       "      <th>station</th>\n",
       "    </tr>\n",
       "  </thead>\n",
       "  <tbody>\n",
       "    <tr>\n",
       "      <th>count</th>\n",
       "      <td>35064.000000</td>\n",
       "      <td>35064.000000</td>\n",
       "      <td>35064.000000</td>\n",
       "      <td>35064.000000</td>\n",
       "      <td>35064.000000</td>\n",
       "      <td>34448.000000</td>\n",
       "      <td>34635.000000</td>\n",
       "      <td>34590.000000</td>\n",
       "      <td>34405.000000</td>\n",
       "      <td>33311.000000</td>\n",
       "      <td>33891.000000</td>\n",
       "      <td>35044.000000</td>\n",
       "      <td>35044.000000</td>\n",
       "      <td>35044.000000</td>\n",
       "      <td>35044.000000</td>\n",
       "      <td>34983</td>\n",
       "      <td>35050.000000</td>\n",
       "      <td>35064</td>\n",
       "    </tr>\n",
       "    <tr>\n",
       "      <th>unique</th>\n",
       "      <td>NaN</td>\n",
       "      <td>NaN</td>\n",
       "      <td>NaN</td>\n",
       "      <td>NaN</td>\n",
       "      <td>NaN</td>\n",
       "      <td>NaN</td>\n",
       "      <td>NaN</td>\n",
       "      <td>NaN</td>\n",
       "      <td>NaN</td>\n",
       "      <td>NaN</td>\n",
       "      <td>NaN</td>\n",
       "      <td>NaN</td>\n",
       "      <td>NaN</td>\n",
       "      <td>NaN</td>\n",
       "      <td>NaN</td>\n",
       "      <td>16</td>\n",
       "      <td>NaN</td>\n",
       "      <td>1</td>\n",
       "    </tr>\n",
       "    <tr>\n",
       "      <th>top</th>\n",
       "      <td>NaN</td>\n",
       "      <td>NaN</td>\n",
       "      <td>NaN</td>\n",
       "      <td>NaN</td>\n",
       "      <td>NaN</td>\n",
       "      <td>NaN</td>\n",
       "      <td>NaN</td>\n",
       "      <td>NaN</td>\n",
       "      <td>NaN</td>\n",
       "      <td>NaN</td>\n",
       "      <td>NaN</td>\n",
       "      <td>NaN</td>\n",
       "      <td>NaN</td>\n",
       "      <td>NaN</td>\n",
       "      <td>NaN</td>\n",
       "      <td>NE</td>\n",
       "      <td>NaN</td>\n",
       "      <td>Guanyuan</td>\n",
       "    </tr>\n",
       "    <tr>\n",
       "      <th>freq</th>\n",
       "      <td>NaN</td>\n",
       "      <td>NaN</td>\n",
       "      <td>NaN</td>\n",
       "      <td>NaN</td>\n",
       "      <td>NaN</td>\n",
       "      <td>NaN</td>\n",
       "      <td>NaN</td>\n",
       "      <td>NaN</td>\n",
       "      <td>NaN</td>\n",
       "      <td>NaN</td>\n",
       "      <td>NaN</td>\n",
       "      <td>NaN</td>\n",
       "      <td>NaN</td>\n",
       "      <td>NaN</td>\n",
       "      <td>NaN</td>\n",
       "      <td>5140</td>\n",
       "      <td>NaN</td>\n",
       "      <td>35064</td>\n",
       "    </tr>\n",
       "    <tr>\n",
       "      <th>mean</th>\n",
       "      <td>17532.500000</td>\n",
       "      <td>2014.662560</td>\n",
       "      <td>6.522930</td>\n",
       "      <td>15.729637</td>\n",
       "      <td>11.500000</td>\n",
       "      <td>82.933372</td>\n",
       "      <td>109.023303</td>\n",
       "      <td>17.590941</td>\n",
       "      <td>57.901643</td>\n",
       "      <td>1271.294377</td>\n",
       "      <td>55.795044</td>\n",
       "      <td>13.584607</td>\n",
       "      <td>1011.846920</td>\n",
       "      <td>3.123062</td>\n",
       "      <td>0.067421</td>\n",
       "      <td>NaN</td>\n",
       "      <td>1.708496</td>\n",
       "      <td>NaN</td>\n",
       "    </tr>\n",
       "    <tr>\n",
       "      <th>std</th>\n",
       "      <td>10122.249256</td>\n",
       "      <td>1.177213</td>\n",
       "      <td>3.448752</td>\n",
       "      <td>8.800218</td>\n",
       "      <td>6.922285</td>\n",
       "      <td>80.933497</td>\n",
       "      <td>91.573709</td>\n",
       "      <td>23.600367</td>\n",
       "      <td>35.150857</td>\n",
       "      <td>1164.854945</td>\n",
       "      <td>57.436983</td>\n",
       "      <td>11.399097</td>\n",
       "      <td>10.404047</td>\n",
       "      <td>13.688896</td>\n",
       "      <td>0.910056</td>\n",
       "      <td>NaN</td>\n",
       "      <td>1.204071</td>\n",
       "      <td>NaN</td>\n",
       "    </tr>\n",
       "    <tr>\n",
       "      <th>min</th>\n",
       "      <td>1.000000</td>\n",
       "      <td>2013.000000</td>\n",
       "      <td>1.000000</td>\n",
       "      <td>1.000000</td>\n",
       "      <td>0.000000</td>\n",
       "      <td>2.000000</td>\n",
       "      <td>2.000000</td>\n",
       "      <td>1.000000</td>\n",
       "      <td>2.000000</td>\n",
       "      <td>100.000000</td>\n",
       "      <td>0.214200</td>\n",
       "      <td>-16.800000</td>\n",
       "      <td>985.900000</td>\n",
       "      <td>-35.300000</td>\n",
       "      <td>0.000000</td>\n",
       "      <td>NaN</td>\n",
       "      <td>0.000000</td>\n",
       "      <td>NaN</td>\n",
       "    </tr>\n",
       "    <tr>\n",
       "      <th>25%</th>\n",
       "      <td>8766.750000</td>\n",
       "      <td>2014.000000</td>\n",
       "      <td>4.000000</td>\n",
       "      <td>8.000000</td>\n",
       "      <td>5.750000</td>\n",
       "      <td>23.000000</td>\n",
       "      <td>40.000000</td>\n",
       "      <td>3.000000</td>\n",
       "      <td>31.000000</td>\n",
       "      <td>500.000000</td>\n",
       "      <td>7.000000</td>\n",
       "      <td>3.100000</td>\n",
       "      <td>1003.300000</td>\n",
       "      <td>-8.100000</td>\n",
       "      <td>0.000000</td>\n",
       "      <td>NaN</td>\n",
       "      <td>0.900000</td>\n",
       "      <td>NaN</td>\n",
       "    </tr>\n",
       "    <tr>\n",
       "      <th>50%</th>\n",
       "      <td>17532.500000</td>\n",
       "      <td>2015.000000</td>\n",
       "      <td>7.000000</td>\n",
       "      <td>16.000000</td>\n",
       "      <td>11.500000</td>\n",
       "      <td>59.000000</td>\n",
       "      <td>89.000000</td>\n",
       "      <td>8.000000</td>\n",
       "      <td>51.000000</td>\n",
       "      <td>900.000000</td>\n",
       "      <td>41.000000</td>\n",
       "      <td>14.500000</td>\n",
       "      <td>1011.400000</td>\n",
       "      <td>3.800000</td>\n",
       "      <td>0.000000</td>\n",
       "      <td>NaN</td>\n",
       "      <td>1.400000</td>\n",
       "      <td>NaN</td>\n",
       "    </tr>\n",
       "    <tr>\n",
       "      <th>75%</th>\n",
       "      <td>26298.250000</td>\n",
       "      <td>2016.000000</td>\n",
       "      <td>10.000000</td>\n",
       "      <td>23.000000</td>\n",
       "      <td>17.250000</td>\n",
       "      <td>115.000000</td>\n",
       "      <td>149.000000</td>\n",
       "      <td>22.000000</td>\n",
       "      <td>78.000000</td>\n",
       "      <td>1600.000000</td>\n",
       "      <td>81.000000</td>\n",
       "      <td>23.300000</td>\n",
       "      <td>1020.100000</td>\n",
       "      <td>15.600000</td>\n",
       "      <td>0.000000</td>\n",
       "      <td>NaN</td>\n",
       "      <td>2.200000</td>\n",
       "      <td>NaN</td>\n",
       "    </tr>\n",
       "    <tr>\n",
       "      <th>max</th>\n",
       "      <td>35064.000000</td>\n",
       "      <td>2017.000000</td>\n",
       "      <td>12.000000</td>\n",
       "      <td>31.000000</td>\n",
       "      <td>23.000000</td>\n",
       "      <td>680.000000</td>\n",
       "      <td>999.000000</td>\n",
       "      <td>293.000000</td>\n",
       "      <td>270.000000</td>\n",
       "      <td>10000.000000</td>\n",
       "      <td>415.000000</td>\n",
       "      <td>40.500000</td>\n",
       "      <td>1042.000000</td>\n",
       "      <td>28.500000</td>\n",
       "      <td>72.500000</td>\n",
       "      <td>NaN</td>\n",
       "      <td>11.200000</td>\n",
       "      <td>NaN</td>\n",
       "    </tr>\n",
       "  </tbody>\n",
       "</table>\n",
       "</div>"
      ],
      "text/plain": [
       "                  No          year         month           day          hour  \\\n",
       "count   35064.000000  35064.000000  35064.000000  35064.000000  35064.000000   \n",
       "unique           NaN           NaN           NaN           NaN           NaN   \n",
       "top              NaN           NaN           NaN           NaN           NaN   \n",
       "freq             NaN           NaN           NaN           NaN           NaN   \n",
       "mean    17532.500000   2014.662560      6.522930     15.729637     11.500000   \n",
       "std     10122.249256      1.177213      3.448752      8.800218      6.922285   \n",
       "min         1.000000   2013.000000      1.000000      1.000000      0.000000   \n",
       "25%      8766.750000   2014.000000      4.000000      8.000000      5.750000   \n",
       "50%     17532.500000   2015.000000      7.000000     16.000000     11.500000   \n",
       "75%     26298.250000   2016.000000     10.000000     23.000000     17.250000   \n",
       "max     35064.000000   2017.000000     12.000000     31.000000     23.000000   \n",
       "\n",
       "               PM2.5          PM10           SO2           NO2            CO  \\\n",
       "count   34448.000000  34635.000000  34590.000000  34405.000000  33311.000000   \n",
       "unique           NaN           NaN           NaN           NaN           NaN   \n",
       "top              NaN           NaN           NaN           NaN           NaN   \n",
       "freq             NaN           NaN           NaN           NaN           NaN   \n",
       "mean       82.933372    109.023303     17.590941     57.901643   1271.294377   \n",
       "std        80.933497     91.573709     23.600367     35.150857   1164.854945   \n",
       "min         2.000000      2.000000      1.000000      2.000000    100.000000   \n",
       "25%        23.000000     40.000000      3.000000     31.000000    500.000000   \n",
       "50%        59.000000     89.000000      8.000000     51.000000    900.000000   \n",
       "75%       115.000000    149.000000     22.000000     78.000000   1600.000000   \n",
       "max       680.000000    999.000000    293.000000    270.000000  10000.000000   \n",
       "\n",
       "                  O3          TEMP          PRES          DEWP          RAIN  \\\n",
       "count   33891.000000  35044.000000  35044.000000  35044.000000  35044.000000   \n",
       "unique           NaN           NaN           NaN           NaN           NaN   \n",
       "top              NaN           NaN           NaN           NaN           NaN   \n",
       "freq             NaN           NaN           NaN           NaN           NaN   \n",
       "mean       55.795044     13.584607   1011.846920      3.123062      0.067421   \n",
       "std        57.436983     11.399097     10.404047     13.688896      0.910056   \n",
       "min         0.214200    -16.800000    985.900000    -35.300000      0.000000   \n",
       "25%         7.000000      3.100000   1003.300000     -8.100000      0.000000   \n",
       "50%        41.000000     14.500000   1011.400000      3.800000      0.000000   \n",
       "75%        81.000000     23.300000   1020.100000     15.600000      0.000000   \n",
       "max       415.000000     40.500000   1042.000000     28.500000     72.500000   \n",
       "\n",
       "           wd          WSPM   station  \n",
       "count   34983  35050.000000     35064  \n",
       "unique     16           NaN         1  \n",
       "top        NE           NaN  Guanyuan  \n",
       "freq     5140           NaN     35064  \n",
       "mean      NaN      1.708496       NaN  \n",
       "std       NaN      1.204071       NaN  \n",
       "min       NaN      0.000000       NaN  \n",
       "25%       NaN      0.900000       NaN  \n",
       "50%       NaN      1.400000       NaN  \n",
       "75%       NaN      2.200000       NaN  \n",
       "max       NaN     11.200000       NaN  "
      ]
     },
     "execution_count": 3,
     "metadata": {},
     "output_type": "execute_result"
    }
   ],
   "source": [
    "guanyuan_df.describe(include=\"all\")"
   ]
  },
  {
   "cell_type": "code",
   "execution_count": 4,
   "metadata": {
    "id": "zjCBk1BI8DC1"
   },
   "outputs": [],
   "source": [
    "guanyuan_df['date'] = pd.to_datetime(guanyuan_df[['year', 'month', 'day', 'hour']])"
   ]
  },
  {
   "cell_type": "markdown",
   "metadata": {
    "id": "MMi6xGaDkbCi"
   },
   "source": [
    "Di sini kita mendapat data air quality di daerah Guanyuan dan mendapat kolom datetime"
   ]
  },
  {
   "cell_type": "markdown",
   "metadata": {
    "id": "FHSiqaZp8DC1"
   },
   "source": [
    "### Assessing Data"
   ]
  },
  {
   "cell_type": "code",
   "execution_count": 5,
   "metadata": {
    "id": "ax-3tEjc9Cj1"
   },
   "outputs": [
    {
     "name": "stdout",
     "output_type": "stream",
     "text": [
      "<class 'pandas.core.frame.DataFrame'>\n",
      "RangeIndex: 35064 entries, 0 to 35063\n",
      "Data columns (total 19 columns):\n",
      " #   Column   Non-Null Count  Dtype         \n",
      "---  ------   --------------  -----         \n",
      " 0   No       35064 non-null  int64         \n",
      " 1   year     35064 non-null  int64         \n",
      " 2   month    35064 non-null  int64         \n",
      " 3   day      35064 non-null  int64         \n",
      " 4   hour     35064 non-null  int64         \n",
      " 5   PM2.5    34448 non-null  float64       \n",
      " 6   PM10     34635 non-null  float64       \n",
      " 7   SO2      34590 non-null  float64       \n",
      " 8   NO2      34405 non-null  float64       \n",
      " 9   CO       33311 non-null  float64       \n",
      " 10  O3       33891 non-null  float64       \n",
      " 11  TEMP     35044 non-null  float64       \n",
      " 12  PRES     35044 non-null  float64       \n",
      " 13  DEWP     35044 non-null  float64       \n",
      " 14  RAIN     35044 non-null  float64       \n",
      " 15  wd       34983 non-null  object        \n",
      " 16  WSPM     35050 non-null  float64       \n",
      " 17  station  35064 non-null  object        \n",
      " 18  date     35064 non-null  datetime64[ns]\n",
      "dtypes: datetime64[ns](1), float64(11), int64(5), object(2)\n",
      "memory usage: 5.1+ MB\n"
     ]
    }
   ],
   "source": [
    "guanyuan_df.info()"
   ]
  },
  {
   "cell_type": "code",
   "execution_count": 6,
   "metadata": {},
   "outputs": [
    {
     "data": {
      "text/plain": [
       "No            0\n",
       "year          0\n",
       "month         0\n",
       "day           0\n",
       "hour          0\n",
       "PM2.5       616\n",
       "PM10        429\n",
       "SO2         474\n",
       "NO2         659\n",
       "CO         1753\n",
       "O3         1173\n",
       "TEMP         20\n",
       "PRES         20\n",
       "DEWP         20\n",
       "RAIN         20\n",
       "wd           81\n",
       "WSPM         14\n",
       "station       0\n",
       "date          0\n",
       "dtype: int64"
      ]
     },
     "execution_count": 6,
     "metadata": {},
     "output_type": "execute_result"
    }
   ],
   "source": [
    "guanyuan_df.isna().sum()"
   ]
  },
  {
   "cell_type": "code",
   "execution_count": 7,
   "metadata": {},
   "outputs": [
    {
     "data": {
      "text/plain": [
       "np.int64(0)"
      ]
     },
     "execution_count": 7,
     "metadata": {},
     "output_type": "execute_result"
    }
   ],
   "source": [
    "guanyuan_df.duplicated().sum()"
   ]
  },
  {
   "cell_type": "markdown",
   "metadata": {
    "id": "7dtxhAPrkhPL"
   },
   "source": [
    "Di sini kita tidak menemukan duplicated data dan menemukan banyak missing value, yaitu:<br>\n",
    "| Column | Value  |\n",
    "|--------|--------|\n",
    "| PM2.5  | 616    |\n",
    "| PM10   | 429    |\n",
    "| SO2    | 474    |\n",
    "| NO2    | 659    |\n",
    "| CO     | 1753   |\n",
    "| O3     | 1173   |\n",
    "| TEMP   | 20     |\n",
    "| PRES   | 20     |\n",
    "| DEWP   | 20     |\n",
    "| RAIN   | 20     |\n",
    "| wd     | 81     |\n",
    "| WSPM   | 14     |"
   ]
  },
  {
   "cell_type": "markdown",
   "metadata": {
    "id": "EhN5R4hr8DC1"
   },
   "source": [
    "### Cleaning Data"
   ]
  },
  {
   "cell_type": "code",
   "execution_count": 8,
   "metadata": {
    "id": "jVnYpprE9Evz"
   },
   "outputs": [],
   "source": [
    "guanyuan_df.ffill(inplace=True)"
   ]
  },
  {
   "cell_type": "code",
   "execution_count": 9,
   "metadata": {
    "id": "jVnYpprE9Evz"
   },
   "outputs": [
    {
     "data": {
      "text/plain": [
       "No         0\n",
       "year       0\n",
       "month      0\n",
       "day        0\n",
       "hour       0\n",
       "PM2.5      0\n",
       "PM10       0\n",
       "SO2        0\n",
       "NO2        0\n",
       "CO         0\n",
       "O3         0\n",
       "TEMP       0\n",
       "PRES       0\n",
       "DEWP       0\n",
       "RAIN       0\n",
       "wd         0\n",
       "WSPM       0\n",
       "station    0\n",
       "date       0\n",
       "dtype: int64"
      ]
     },
     "execution_count": 9,
     "metadata": {},
     "output_type": "execute_result"
    }
   ],
   "source": [
    "guanyuan_df.isna().sum()"
   ]
  },
  {
   "cell_type": "code",
   "execution_count": 10,
   "metadata": {
    "id": "jVnYpprE9Evz"
   },
   "outputs": [],
   "source": [
    "guanyuan_df.rename(columns={\n",
    "        \"PM2.5\": \"PM2_5\"\n",
    "    }, inplace=True)"
   ]
  },
  {
   "cell_type": "markdown",
   "metadata": {
    "id": "Q_5ejIqckiSP"
   },
   "source": [
    "<br>Kita asumsikan data-data yang ada di sini tidak mungkin berubah secara drastis dalam jangka waktu yang pendek, maka kita menggunakan ffill method untuk mengatasinya, dengan ffill kita sudah mengisi missing value dengan data sebelumnya"
   ]
  },
  {
   "cell_type": "markdown",
   "metadata": {
    "id": "gp-Y6wU38DC1"
   },
   "source": [
    "## Exploratory Data Analysis (EDA)"
   ]
  },
  {
   "cell_type": "markdown",
   "metadata": {
    "id": "MW7WF2kr8DC1"
   },
   "source": [
    "### Explore ..."
   ]
  },
  {
   "cell_type": "code",
   "execution_count": 11,
   "metadata": {
    "id": "e9CQCZjk8DC2"
   },
   "outputs": [
    {
     "data": {
      "text/html": [
       "<div>\n",
       "<style scoped>\n",
       "    .dataframe tbody tr th:only-of-type {\n",
       "        vertical-align: middle;\n",
       "    }\n",
       "\n",
       "    .dataframe tbody tr th {\n",
       "        vertical-align: top;\n",
       "    }\n",
       "\n",
       "    .dataframe thead th {\n",
       "        text-align: right;\n",
       "    }\n",
       "</style>\n",
       "<table border=\"1\" class=\"dataframe\">\n",
       "  <thead>\n",
       "    <tr style=\"text-align: right;\">\n",
       "      <th></th>\n",
       "      <th>No</th>\n",
       "      <th>year</th>\n",
       "      <th>month</th>\n",
       "      <th>day</th>\n",
       "      <th>hour</th>\n",
       "      <th>PM2_5</th>\n",
       "      <th>PM10</th>\n",
       "      <th>SO2</th>\n",
       "      <th>NO2</th>\n",
       "      <th>CO</th>\n",
       "      <th>O3</th>\n",
       "      <th>TEMP</th>\n",
       "      <th>PRES</th>\n",
       "      <th>DEWP</th>\n",
       "      <th>RAIN</th>\n",
       "      <th>wd</th>\n",
       "      <th>WSPM</th>\n",
       "      <th>station</th>\n",
       "      <th>date</th>\n",
       "      <th>PM2_5_quality</th>\n",
       "    </tr>\n",
       "  </thead>\n",
       "  <tbody>\n",
       "    <tr>\n",
       "      <th>35059</th>\n",
       "      <td>35060</td>\n",
       "      <td>2017</td>\n",
       "      <td>2</td>\n",
       "      <td>28</td>\n",
       "      <td>19</td>\n",
       "      <td>13.0</td>\n",
       "      <td>37.0</td>\n",
       "      <td>3.0</td>\n",
       "      <td>36.0</td>\n",
       "      <td>400.0</td>\n",
       "      <td>60.0</td>\n",
       "      <td>12.5</td>\n",
       "      <td>1013.5</td>\n",
       "      <td>-16.2</td>\n",
       "      <td>0.0</td>\n",
       "      <td>NW</td>\n",
       "      <td>2.4</td>\n",
       "      <td>Guanyuan</td>\n",
       "      <td>2017-02-28 19:00:00</td>\n",
       "      <td>Good</td>\n",
       "    </tr>\n",
       "    <tr>\n",
       "      <th>35060</th>\n",
       "      <td>35061</td>\n",
       "      <td>2017</td>\n",
       "      <td>2</td>\n",
       "      <td>28</td>\n",
       "      <td>20</td>\n",
       "      <td>20.0</td>\n",
       "      <td>43.0</td>\n",
       "      <td>4.0</td>\n",
       "      <td>48.0</td>\n",
       "      <td>500.0</td>\n",
       "      <td>43.0</td>\n",
       "      <td>11.6</td>\n",
       "      <td>1013.6</td>\n",
       "      <td>-15.1</td>\n",
       "      <td>0.0</td>\n",
       "      <td>WNW</td>\n",
       "      <td>0.9</td>\n",
       "      <td>Guanyuan</td>\n",
       "      <td>2017-02-28 20:00:00</td>\n",
       "      <td>Moderate</td>\n",
       "    </tr>\n",
       "    <tr>\n",
       "      <th>35061</th>\n",
       "      <td>35062</td>\n",
       "      <td>2017</td>\n",
       "      <td>2</td>\n",
       "      <td>28</td>\n",
       "      <td>21</td>\n",
       "      <td>16.0</td>\n",
       "      <td>33.0</td>\n",
       "      <td>5.0</td>\n",
       "      <td>39.0</td>\n",
       "      <td>500.0</td>\n",
       "      <td>50.0</td>\n",
       "      <td>10.8</td>\n",
       "      <td>1014.2</td>\n",
       "      <td>-13.3</td>\n",
       "      <td>0.0</td>\n",
       "      <td>NW</td>\n",
       "      <td>1.1</td>\n",
       "      <td>Guanyuan</td>\n",
       "      <td>2017-02-28 21:00:00</td>\n",
       "      <td>Moderate</td>\n",
       "    </tr>\n",
       "    <tr>\n",
       "      <th>35062</th>\n",
       "      <td>35063</td>\n",
       "      <td>2017</td>\n",
       "      <td>2</td>\n",
       "      <td>28</td>\n",
       "      <td>22</td>\n",
       "      <td>11.0</td>\n",
       "      <td>24.0</td>\n",
       "      <td>5.0</td>\n",
       "      <td>47.0</td>\n",
       "      <td>500.0</td>\n",
       "      <td>41.0</td>\n",
       "      <td>10.5</td>\n",
       "      <td>1014.4</td>\n",
       "      <td>-12.9</td>\n",
       "      <td>0.0</td>\n",
       "      <td>NNW</td>\n",
       "      <td>1.2</td>\n",
       "      <td>Guanyuan</td>\n",
       "      <td>2017-02-28 22:00:00</td>\n",
       "      <td>Good</td>\n",
       "    </tr>\n",
       "    <tr>\n",
       "      <th>35063</th>\n",
       "      <td>35064</td>\n",
       "      <td>2017</td>\n",
       "      <td>2</td>\n",
       "      <td>28</td>\n",
       "      <td>23</td>\n",
       "      <td>15.0</td>\n",
       "      <td>27.0</td>\n",
       "      <td>5.0</td>\n",
       "      <td>53.0</td>\n",
       "      <td>600.0</td>\n",
       "      <td>33.0</td>\n",
       "      <td>8.6</td>\n",
       "      <td>1014.1</td>\n",
       "      <td>-15.9</td>\n",
       "      <td>0.0</td>\n",
       "      <td>NNE</td>\n",
       "      <td>1.3</td>\n",
       "      <td>Guanyuan</td>\n",
       "      <td>2017-02-28 23:00:00</td>\n",
       "      <td>Good</td>\n",
       "    </tr>\n",
       "  </tbody>\n",
       "</table>\n",
       "</div>"
      ],
      "text/plain": [
       "          No  year  month  day  hour  PM2_5  PM10  SO2   NO2     CO    O3  \\\n",
       "35059  35060  2017      2   28    19   13.0  37.0  3.0  36.0  400.0  60.0   \n",
       "35060  35061  2017      2   28    20   20.0  43.0  4.0  48.0  500.0  43.0   \n",
       "35061  35062  2017      2   28    21   16.0  33.0  5.0  39.0  500.0  50.0   \n",
       "35062  35063  2017      2   28    22   11.0  24.0  5.0  47.0  500.0  41.0   \n",
       "35063  35064  2017      2   28    23   15.0  27.0  5.0  53.0  600.0  33.0   \n",
       "\n",
       "       TEMP    PRES  DEWP  RAIN   wd  WSPM   station                date  \\\n",
       "35059  12.5  1013.5 -16.2   0.0   NW   2.4  Guanyuan 2017-02-28 19:00:00   \n",
       "35060  11.6  1013.6 -15.1   0.0  WNW   0.9  Guanyuan 2017-02-28 20:00:00   \n",
       "35061  10.8  1014.2 -13.3   0.0   NW   1.1  Guanyuan 2017-02-28 21:00:00   \n",
       "35062  10.5  1014.4 -12.9   0.0  NNW   1.2  Guanyuan 2017-02-28 22:00:00   \n",
       "35063   8.6  1014.1 -15.9   0.0  NNE   1.3  Guanyuan 2017-02-28 23:00:00   \n",
       "\n",
       "      PM2_5_quality  \n",
       "35059          Good  \n",
       "35060      Moderate  \n",
       "35061      Moderate  \n",
       "35062          Good  \n",
       "35063          Good  "
      ]
     },
     "execution_count": 11,
     "metadata": {},
     "output_type": "execute_result"
    }
   ],
   "source": [
    "guanyuan_df[\"PM2_5_quality\"] = guanyuan_df.PM2_5.apply(\n",
    "    lambda x: \"Good\" if x <= 15 else (\n",
    "        \"Moderate\" if 15 < x <= 35 else (\n",
    "            \"Unhealthy\" if 35 < x <= 55 else (\n",
    "                \"Very Unhealthy\" if 55 < x <= 150 else \"Hazardous\"\n",
    "            )\n",
    "        )\n",
    "    )\n",
    ")\n",
    "guanyuan_df.tail()"
   ]
  },
  {
   "cell_type": "code",
   "execution_count": 12,
   "metadata": {
    "id": "e9CQCZjk8DC2"
   },
   "outputs": [
    {
     "data": {
      "text/html": [
       "<div>\n",
       "<style scoped>\n",
       "    .dataframe tbody tr th:only-of-type {\n",
       "        vertical-align: middle;\n",
       "    }\n",
       "\n",
       "    .dataframe tbody tr th {\n",
       "        vertical-align: top;\n",
       "    }\n",
       "\n",
       "    .dataframe thead th {\n",
       "        text-align: right;\n",
       "    }\n",
       "</style>\n",
       "<table border=\"1\" class=\"dataframe\">\n",
       "  <thead>\n",
       "    <tr style=\"text-align: right;\">\n",
       "      <th></th>\n",
       "      <th>No</th>\n",
       "      <th>year</th>\n",
       "      <th>month</th>\n",
       "      <th>day</th>\n",
       "      <th>hour</th>\n",
       "      <th>PM2_5</th>\n",
       "      <th>PM10</th>\n",
       "      <th>SO2</th>\n",
       "      <th>NO2</th>\n",
       "      <th>CO</th>\n",
       "      <th>...</th>\n",
       "      <th>TEMP</th>\n",
       "      <th>PRES</th>\n",
       "      <th>DEWP</th>\n",
       "      <th>RAIN</th>\n",
       "      <th>wd</th>\n",
       "      <th>WSPM</th>\n",
       "      <th>station</th>\n",
       "      <th>date</th>\n",
       "      <th>PM2_5_quality</th>\n",
       "      <th>PM10_quality</th>\n",
       "    </tr>\n",
       "  </thead>\n",
       "  <tbody>\n",
       "    <tr>\n",
       "      <th>35059</th>\n",
       "      <td>35060</td>\n",
       "      <td>2017</td>\n",
       "      <td>2</td>\n",
       "      <td>28</td>\n",
       "      <td>19</td>\n",
       "      <td>13.0</td>\n",
       "      <td>37.0</td>\n",
       "      <td>3.0</td>\n",
       "      <td>36.0</td>\n",
       "      <td>400.0</td>\n",
       "      <td>...</td>\n",
       "      <td>12.5</td>\n",
       "      <td>1013.5</td>\n",
       "      <td>-16.2</td>\n",
       "      <td>0.0</td>\n",
       "      <td>NW</td>\n",
       "      <td>2.4</td>\n",
       "      <td>Guanyuan</td>\n",
       "      <td>2017-02-28 19:00:00</td>\n",
       "      <td>Good</td>\n",
       "      <td>Good</td>\n",
       "    </tr>\n",
       "    <tr>\n",
       "      <th>35060</th>\n",
       "      <td>35061</td>\n",
       "      <td>2017</td>\n",
       "      <td>2</td>\n",
       "      <td>28</td>\n",
       "      <td>20</td>\n",
       "      <td>20.0</td>\n",
       "      <td>43.0</td>\n",
       "      <td>4.0</td>\n",
       "      <td>48.0</td>\n",
       "      <td>500.0</td>\n",
       "      <td>...</td>\n",
       "      <td>11.6</td>\n",
       "      <td>1013.6</td>\n",
       "      <td>-15.1</td>\n",
       "      <td>0.0</td>\n",
       "      <td>WNW</td>\n",
       "      <td>0.9</td>\n",
       "      <td>Guanyuan</td>\n",
       "      <td>2017-02-28 20:00:00</td>\n",
       "      <td>Moderate</td>\n",
       "      <td>Good</td>\n",
       "    </tr>\n",
       "    <tr>\n",
       "      <th>35061</th>\n",
       "      <td>35062</td>\n",
       "      <td>2017</td>\n",
       "      <td>2</td>\n",
       "      <td>28</td>\n",
       "      <td>21</td>\n",
       "      <td>16.0</td>\n",
       "      <td>33.0</td>\n",
       "      <td>5.0</td>\n",
       "      <td>39.0</td>\n",
       "      <td>500.0</td>\n",
       "      <td>...</td>\n",
       "      <td>10.8</td>\n",
       "      <td>1014.2</td>\n",
       "      <td>-13.3</td>\n",
       "      <td>0.0</td>\n",
       "      <td>NW</td>\n",
       "      <td>1.1</td>\n",
       "      <td>Guanyuan</td>\n",
       "      <td>2017-02-28 21:00:00</td>\n",
       "      <td>Moderate</td>\n",
       "      <td>Good</td>\n",
       "    </tr>\n",
       "    <tr>\n",
       "      <th>35062</th>\n",
       "      <td>35063</td>\n",
       "      <td>2017</td>\n",
       "      <td>2</td>\n",
       "      <td>28</td>\n",
       "      <td>22</td>\n",
       "      <td>11.0</td>\n",
       "      <td>24.0</td>\n",
       "      <td>5.0</td>\n",
       "      <td>47.0</td>\n",
       "      <td>500.0</td>\n",
       "      <td>...</td>\n",
       "      <td>10.5</td>\n",
       "      <td>1014.4</td>\n",
       "      <td>-12.9</td>\n",
       "      <td>0.0</td>\n",
       "      <td>NNW</td>\n",
       "      <td>1.2</td>\n",
       "      <td>Guanyuan</td>\n",
       "      <td>2017-02-28 22:00:00</td>\n",
       "      <td>Good</td>\n",
       "      <td>Good</td>\n",
       "    </tr>\n",
       "    <tr>\n",
       "      <th>35063</th>\n",
       "      <td>35064</td>\n",
       "      <td>2017</td>\n",
       "      <td>2</td>\n",
       "      <td>28</td>\n",
       "      <td>23</td>\n",
       "      <td>15.0</td>\n",
       "      <td>27.0</td>\n",
       "      <td>5.0</td>\n",
       "      <td>53.0</td>\n",
       "      <td>600.0</td>\n",
       "      <td>...</td>\n",
       "      <td>8.6</td>\n",
       "      <td>1014.1</td>\n",
       "      <td>-15.9</td>\n",
       "      <td>0.0</td>\n",
       "      <td>NNE</td>\n",
       "      <td>1.3</td>\n",
       "      <td>Guanyuan</td>\n",
       "      <td>2017-02-28 23:00:00</td>\n",
       "      <td>Good</td>\n",
       "      <td>Good</td>\n",
       "    </tr>\n",
       "  </tbody>\n",
       "</table>\n",
       "<p>5 rows × 21 columns</p>\n",
       "</div>"
      ],
      "text/plain": [
       "          No  year  month  day  hour  PM2_5  PM10  SO2   NO2     CO  ...  \\\n",
       "35059  35060  2017      2   28    19   13.0  37.0  3.0  36.0  400.0  ...   \n",
       "35060  35061  2017      2   28    20   20.0  43.0  4.0  48.0  500.0  ...   \n",
       "35061  35062  2017      2   28    21   16.0  33.0  5.0  39.0  500.0  ...   \n",
       "35062  35063  2017      2   28    22   11.0  24.0  5.0  47.0  500.0  ...   \n",
       "35063  35064  2017      2   28    23   15.0  27.0  5.0  53.0  600.0  ...   \n",
       "\n",
       "       TEMP    PRES  DEWP  RAIN   wd WSPM   station                date  \\\n",
       "35059  12.5  1013.5 -16.2   0.0   NW  2.4  Guanyuan 2017-02-28 19:00:00   \n",
       "35060  11.6  1013.6 -15.1   0.0  WNW  0.9  Guanyuan 2017-02-28 20:00:00   \n",
       "35061  10.8  1014.2 -13.3   0.0   NW  1.1  Guanyuan 2017-02-28 21:00:00   \n",
       "35062  10.5  1014.4 -12.9   0.0  NNW  1.2  Guanyuan 2017-02-28 22:00:00   \n",
       "35063   8.6  1014.1 -15.9   0.0  NNE  1.3  Guanyuan 2017-02-28 23:00:00   \n",
       "\n",
       "      PM2_5_quality PM10_quality  \n",
       "35059          Good         Good  \n",
       "35060      Moderate         Good  \n",
       "35061      Moderate         Good  \n",
       "35062          Good         Good  \n",
       "35063          Good         Good  \n",
       "\n",
       "[5 rows x 21 columns]"
      ]
     },
     "execution_count": 12,
     "metadata": {},
     "output_type": "execute_result"
    }
   ],
   "source": [
    "guanyuan_df[\"PM10_quality\"] = guanyuan_df.PM10.apply(\n",
    "    lambda x: \"Good\" if x <= 50 else (\n",
    "        \"Moderate\" if 50 < x <= 150 else (\n",
    "            \"Unhealthy\" if 150 < x <= 250 else (\n",
    "                \"Very Unhealthy\" if 250 < x <= 350 else \"Hazardous\"\n",
    "            )\n",
    "        )\n",
    "    )\n",
    ")\n",
    "guanyuan_df.tail()"
   ]
  },
  {
   "cell_type": "code",
   "execution_count": 13,
   "metadata": {
    "id": "e9CQCZjk8DC2"
   },
   "outputs": [
    {
     "data": {
      "text/html": [
       "<div>\n",
       "<style scoped>\n",
       "    .dataframe tbody tr th:only-of-type {\n",
       "        vertical-align: middle;\n",
       "    }\n",
       "\n",
       "    .dataframe tbody tr th {\n",
       "        vertical-align: top;\n",
       "    }\n",
       "\n",
       "    .dataframe thead th {\n",
       "        text-align: right;\n",
       "    }\n",
       "</style>\n",
       "<table border=\"1\" class=\"dataframe\">\n",
       "  <thead>\n",
       "    <tr style=\"text-align: right;\">\n",
       "      <th></th>\n",
       "      <th>PM10</th>\n",
       "    </tr>\n",
       "    <tr>\n",
       "      <th>PM10_quality</th>\n",
       "      <th></th>\n",
       "    </tr>\n",
       "  </thead>\n",
       "  <tbody>\n",
       "    <tr>\n",
       "      <th>Good</th>\n",
       "      <td>10895</td>\n",
       "    </tr>\n",
       "    <tr>\n",
       "      <th>Hazardous</th>\n",
       "      <td>803</td>\n",
       "    </tr>\n",
       "    <tr>\n",
       "      <th>Moderate</th>\n",
       "      <td>15519</td>\n",
       "    </tr>\n",
       "    <tr>\n",
       "      <th>Unhealthy</th>\n",
       "      <td>6076</td>\n",
       "    </tr>\n",
       "    <tr>\n",
       "      <th>Very Unhealthy</th>\n",
       "      <td>1771</td>\n",
       "    </tr>\n",
       "  </tbody>\n",
       "</table>\n",
       "</div>"
      ],
      "text/plain": [
       "                 PM10\n",
       "PM10_quality         \n",
       "Good            10895\n",
       "Hazardous         803\n",
       "Moderate        15519\n",
       "Unhealthy        6076\n",
       "Very Unhealthy   1771"
      ]
     },
     "execution_count": 13,
     "metadata": {},
     "output_type": "execute_result"
    }
   ],
   "source": [
    "guanyuan_df.groupby(by='PM10_quality').agg({'PM10': 'count'})"
   ]
  },
  {
   "cell_type": "code",
   "execution_count": 14,
   "metadata": {
    "id": "e9CQCZjk8DC2"
   },
   "outputs": [
    {
     "data": {
      "text/html": [
       "<div>\n",
       "<style scoped>\n",
       "    .dataframe tbody tr th:only-of-type {\n",
       "        vertical-align: middle;\n",
       "    }\n",
       "\n",
       "    .dataframe tbody tr th {\n",
       "        vertical-align: top;\n",
       "    }\n",
       "\n",
       "    .dataframe thead th {\n",
       "        text-align: right;\n",
       "    }\n",
       "</style>\n",
       "<table border=\"1\" class=\"dataframe\">\n",
       "  <thead>\n",
       "    <tr style=\"text-align: right;\">\n",
       "      <th></th>\n",
       "      <th>PM2_5</th>\n",
       "    </tr>\n",
       "    <tr>\n",
       "      <th>PM2_5_quality</th>\n",
       "      <th></th>\n",
       "    </tr>\n",
       "  </thead>\n",
       "  <tbody>\n",
       "    <tr>\n",
       "      <th>Good</th>\n",
       "      <td>5879</td>\n",
       "    </tr>\n",
       "    <tr>\n",
       "      <th>Hazardous</th>\n",
       "      <td>5515</td>\n",
       "    </tr>\n",
       "    <tr>\n",
       "      <th>Moderate</th>\n",
       "      <td>6248</td>\n",
       "    </tr>\n",
       "    <tr>\n",
       "      <th>Unhealthy</th>\n",
       "      <td>4688</td>\n",
       "    </tr>\n",
       "    <tr>\n",
       "      <th>Very Unhealthy</th>\n",
       "      <td>12734</td>\n",
       "    </tr>\n",
       "  </tbody>\n",
       "</table>\n",
       "</div>"
      ],
      "text/plain": [
       "                PM2_5\n",
       "PM2_5_quality        \n",
       "Good             5879\n",
       "Hazardous        5515\n",
       "Moderate         6248\n",
       "Unhealthy        4688\n",
       "Very Unhealthy  12734"
      ]
     },
     "execution_count": 14,
     "metadata": {},
     "output_type": "execute_result"
    }
   ],
   "source": [
    "guanyuan_df.groupby(by='PM2_5_quality').agg({'PM2_5': 'count'})"
   ]
  },
  {
   "cell_type": "markdown",
   "metadata": {
    "id": "th_Lzl2Fkj9O"
   },
   "source": [
    "Di sini kita sudah mendapatkan kualitas udara berdasarkan PM2.5 dan PM10, selanjutnya kita akan mencari nilai temperatur tertinggi dan terendah"
   ]
  },
  {
   "cell_type": "code",
   "execution_count": 15,
   "metadata": {
    "id": "e9CQCZjk8DC2"
   },
   "outputs": [
    {
     "data": {
      "text/plain": [
       "np.float64(-16.8)"
      ]
     },
     "execution_count": 15,
     "metadata": {},
     "output_type": "execute_result"
    }
   ],
   "source": [
    "guanyuan_df['TEMP'].min()"
   ]
  },
  {
   "cell_type": "code",
   "execution_count": 16,
   "metadata": {
    "id": "e9CQCZjk8DC2"
   },
   "outputs": [
    {
     "data": {
      "text/plain": [
       "np.float64(40.5)"
      ]
     },
     "execution_count": 16,
     "metadata": {},
     "output_type": "execute_result"
    }
   ],
   "source": [
    "guanyuan_df['TEMP'].max()"
   ]
  },
  {
   "cell_type": "markdown",
   "metadata": {
    "id": "th_Lzl2Fkj9O"
   },
   "source": [
    "Di sini kita sudah mendapatkan semua data yang dibutuhkan, kita akan membuat visualisasinya"
   ]
  },
  {
   "cell_type": "markdown",
   "metadata": {
    "id": "zsyZjqak8DC2"
   },
   "source": [
    "## Visualization & Explanatory Analysis"
   ]
  },
  {
   "cell_type": "markdown",
   "metadata": {
    "id": "th_Lzl2Fkj9O"
   },
   "source": [
    "- Bagaimana grafik garis tren konsentrasi PM2.5 dan PM10 dalam jangka waktu tertentu di daerah Guanyuan?"
   ]
  },
  {
   "cell_type": "code",
   "execution_count": 17,
   "metadata": {
    "id": "1swJUdAD8DC2"
   },
   "outputs": [
    {
     "data": {
      "text/plain": [
       "(array([15887., 16071., 16252., 16436., 16617., 16801., 16983., 17167.]),\n",
       " [Text(15887.0, 0, '2013-07'),\n",
       "  Text(16071.0, 0, '2014-01'),\n",
       "  Text(16252.0, 0, '2014-07'),\n",
       "  Text(16436.0, 0, '2015-01'),\n",
       "  Text(16617.0, 0, '2015-07'),\n",
       "  Text(16801.0, 0, '2016-01'),\n",
       "  Text(16983.0, 0, '2016-07'),\n",
       "  Text(17167.0, 0, '2017-01')])"
      ]
     },
     "execution_count": 17,
     "metadata": {},
     "output_type": "execute_result"
    },
    {
     "data": {
      "image/png": "[encoded data removed]",
      "text/plain": [
       "<Figure size 1000x500 with 1 Axes>"
      ]
     },
     "metadata": {},
     "output_type": "display_data"
    }
   ],
   "source": [
    "daily_air_df = guanyuan_df.resample(rule='ME', on='date').agg({\n",
    "    \"PM2_5\": lambda x: x.unique().tolist(),\n",
    "    \"PM10\": lambda x: x.unique().tolist()\n",
    "})\n",
    "\n",
    "daily_air_df = daily_air_df.reset_index()\n",
    "\n",
    "plt.figure(figsize=(10, 5))\n",
    "plt.plot(daily_air_df[\"date\"], [len(x) for x in daily_air_df[\"PM2_5\"]], marker='o', linewidth=1, color=\"#72BCD4\") \n",
    "plt.plot(daily_air_df[\"date\"], [len(x) for x in daily_air_df[\"PM10\"]], marker='o', linewidth=1, color=\"green\") \n",
    "plt.title(\"Air Quality\", loc=\"center\", fontsize=20) \n",
    "plt.xticks(fontsize=10) "
   ]
  },
  {
   "cell_type": "code",
   "execution_count": 18,
   "metadata": {
    "id": "1swJUdAD8DC2"
   },
   "outputs": [
    {
     "data": {
      "text/plain": [
       "date             2017-02-28 23:00:00\n",
       "PM2_5                        [680.0]\n",
       "PM2_5_quality       [Very Unhealthy]\n",
       "dtype: object"
      ]
     },
     "execution_count": 18,
     "metadata": {},
     "output_type": "execute_result"
    }
   ],
   "source": [
    "PM2_5_data = guanyuan_df.groupby(by='date').agg({\n",
    "    \"PM2_5\": lambda x: x.unique().tolist(),\n",
    "    \"PM2_5_quality\": lambda x: x.unique().tolist()\n",
    "}).reset_index()\n",
    "\n",
    "PM2_5_data.max()"
   ]
  },
  {
   "cell_type": "markdown",
   "metadata": {
    "id": "th_Lzl2Fkj9O"
   },
   "source": [
    "- Bagaimana grafik tren rata-rata suhu di dearah Guanyuan dalam kurun waktu tertentu?"
   ]
  },
  {
   "cell_type": "code",
   "execution_count": 22,
   "metadata": {
    "id": "1swJUdAD8DC2"
   },
   "outputs": [
    {
     "data": {
      "text/plain": [
       "(array([15887., 16071., 16252., 16436., 16617., 16801., 16983., 17167.]),\n",
       " [Text(15887.0, 0, '2013-07'),\n",
       "  Text(16071.0, 0, '2014-01'),\n",
       "  Text(16252.0, 0, '2014-07'),\n",
       "  Text(16436.0, 0, '2015-01'),\n",
       "  Text(16617.0, 0, '2015-07'),\n",
       "  Text(16801.0, 0, '2016-01'),\n",
       "  Text(16983.0, 0, '2016-07'),\n",
       "  Text(17167.0, 0, '2017-01')])"
      ]
     },
     "execution_count": 22,
     "metadata": {},
     "output_type": "execute_result"
    },
    {
     "data": {
      "image/png": "[encoded data removed]",
      "text/plain": [
       "<Figure size 1000x500 with 1 Axes>"
      ]
     },
     "metadata": {},
     "output_type": "display_data"
    }
   ],
   "source": [
    "daily_tmp_df = guanyuan_df.resample(rule='ME', on='date').agg({\n",
    "    \"TEMP\": \"mean\"\n",
    "})\n",
    "\n",
    "daily_tmp_df = daily_tmp_df.reset_index()\n",
    "\n",
    "plt.figure(figsize=(10, 5))\n",
    "plt.plot(daily_air_df[\"date\"], daily_tmp_df[\"TEMP\"], marker='o', linewidth=1, color=\"#72BCD4\")\n",
    "plt.title(\"Temperature\", loc=\"center\", fontsize=20) \n",
    "plt.xticks(fontsize=10) "
   ]
  },
  {
   "cell_type": "markdown",
   "metadata": {
    "id": "th_Lzl2Fkj9O"
   },
   "source": [
    "- Dalam kurun waktu tertentu, berapa curah hujan tertinggi dan terendah"
   ]
  },
  {
   "cell_type": "code",
   "execution_count": 20,
   "metadata": {
    "id": "1swJUdAD8DC2"
   },
   "outputs": [
    {
     "data": {
      "text/plain": [
       "date    2017-02-28 23:00:00\n",
       "RAIN                 [72.5]\n",
       "dtype: object"
      ]
     },
     "execution_count": 20,
     "metadata": {},
     "output_type": "execute_result"
    }
   ],
   "source": [
    "rain_data = guanyuan_df.groupby(by='date').agg({\n",
    "    \"RAIN\": lambda x: x.unique().tolist()\n",
    "}).reset_index()\n",
    "\n",
    "rain_data.max()"
   ]
  },
  {
   "cell_type": "code",
   "execution_count": 21,
   "metadata": {
    "id": "1swJUdAD8DC2"
   },
   "outputs": [
    {
     "data": {
      "text/plain": [
       "date    2013-03-01 00:00:00\n",
       "RAIN                  [0.0]\n",
       "dtype: object"
      ]
     },
     "execution_count": 21,
     "metadata": {},
     "output_type": "execute_result"
    }
   ],
   "source": [
    "rain_data = guanyuan_df.groupby(by='date').agg({\n",
    "    \"RAIN\": lambda x: x.unique().tolist()\n",
    "}).reset_index()\n",
    "\n",
    "rain_data.min()"
   ]
  },
  {
   "cell_type": "markdown",
   "metadata": {
    "id": "_0-36BDLklRg"
   },
   "source": [
    "Dari sini kita mendapat visualisasi yang cukup baik untuk menjawab semua pertanyaan analisis data"
   ]
  },
  {
   "cell_type": "markdown",
   "metadata": {
    "id": "_WeHlCeX8DC2"
   },
   "source": [
    "## Conclusion"
   ]
  },
  {
   "cell_type": "markdown",
   "metadata": {
    "id": "ZTcyR48Y8DC2"
   },
   "source": [
    "- Bagaimana grafik garis tren konsentrasi PM2.5 dan PM10 dalam jangka waktu tertentu di daerah Guanyuan?\n",
    "**Tren naik-turun grafik berubah cukup drastis di setiap bulannya**\n",
    "- Bagaimana grafik tren rata-rata suhu di dearah Guanyuan dalam kurun waktu tertentu?\n",
    "**Perubahan suhu yang terjadi naik-turun secara drastis disetiap kuartal**\n",
    "- Dalam kurun waktu tertentu, berapa curah hujan tertinggi dan terendah\n",
    "**Curah hujan yang terjadi tidak terlalu tinggi bahkan pada tingkat tertingginya**"
   ]
  }
 ],
 "metadata": {
  "colab": {
   "provenance": []
  },
  "kernelspec": {
   "display_name": "Python 3 (ipykernel)",
   "language": "python",
   "name": "python3"
  },
  "language_info": {
   "codemirror_mode": {
    "name": "ipython",
    "version": 3
   },
   "file_extension": ".py",
   "mimetype": "text/x-python",
   "name": "python",
   "nbconvert_exporter": "python",
   "pygments_lexer": "ipython3",
   "version": "3.12.6"
  },
  "vscode": {
   "interpreter": {
    "hash": "972b3bf27e332e87b5379f2791f6ef9dfc79c71018c370b0d7423235e20fe4d7"
   }
  }
 },
 "nbformat": 4,
 "nbformat_minor": 4
}
